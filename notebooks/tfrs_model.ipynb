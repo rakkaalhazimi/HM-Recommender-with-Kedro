{
 "cells": [
  {
   "cell_type": "code",
   "execution_count": 1,
   "metadata": {},
   "outputs": [],
   "source": [
    "import pandas as pd\n",
    "import tensorflow as tf\n",
    "import tensorflow_recommenders as tfrs"
   ]
  },
  {
   "cell_type": "code",
   "execution_count": 2,
   "metadata": {},
   "outputs": [],
   "source": [
    "transactions = pd.read_parquet(\"../data/02_intermediate/transactions_train.parquet\", columns=[\"customer_id\", \"article_id\"])"
   ]
  },
  {
   "cell_type": "code",
   "execution_count": 3,
   "metadata": {},
   "outputs": [
    {
     "name": "stdout",
     "output_type": "stream",
     "text": [
      "<class 'pandas.core.frame.DataFrame'>\n",
      "RangeIndex: 31788324 entries, 0 to 31788323\n",
      "Data columns (total 2 columns):\n",
      " #   Column       Dtype \n",
      "---  ------       ----- \n",
      " 0   customer_id  uint64\n",
      " 1   article_id   int32 \n",
      "dtypes: int32(1), uint64(1)\n",
      "memory usage: 363.8 MB\n"
     ]
    }
   ],
   "source": [
    "transactions.info()"
   ]
  },
  {
   "cell_type": "code",
   "execution_count": 16,
   "metadata": {},
   "outputs": [],
   "source": [
    "dataset = tf.data.Dataset.from_tensor_slices(\n",
    "    {\n",
    "        \"customer_id\": transactions[\"customer_id\"], \n",
    "        \"article_id\": transactions[\"article_id\"]\n",
    "    }\n",
    ")\n",
    "\n",
    "def transform_id(features):\n",
    "    features[\"article_id\"] = tf.strings.as_string(features[\"article_id\"])\n",
    "    features[\"customer_id\"] = tf.strings.as_string(features[\"customer_id\"])\n",
    "    return features\n",
    "\n",
    "dataset = dataset.map(transform_id)"
   ]
  },
  {
   "cell_type": "code",
   "execution_count": 17,
   "metadata": {},
   "outputs": [],
   "source": [
    "customer_vocabulary = tf.keras.layers.StringLookup(mask_token=None)\n",
    "\n",
    "for data in dataset.batch(10).take(1):\n",
    "    customer_vocabulary.adapt(data[\"customer_id\"])"
   ]
  },
  {
   "cell_type": "code",
   "execution_count": 22,
   "metadata": {},
   "outputs": [
    {
     "data": {
      "text/plain": [
       "['[UNK]',\n",
       " '10112112306570742978',\n",
       " '3618040643253904000',\n",
       " '18439897732908966680']"
      ]
     },
     "execution_count": 22,
     "metadata": {},
     "output_type": "execute_result"
    }
   ],
   "source": [
    "customer_vocabulary.get_vocabulary()"
   ]
  }
 ],
 "metadata": {
  "interpreter": {
   "hash": "a44b2164b6a89abffb76ba7e432563d5878be705cd60455caca93bd0e53997dc"
  },
  "kernelspec": {
   "display_name": "Python 3.8.13 ('kedro-env')",
   "language": "python",
   "name": "python3"
  },
  "language_info": {
   "codemirror_mode": {
    "name": "ipython",
    "version": 3
   },
   "file_extension": ".py",
   "mimetype": "text/x-python",
   "name": "python",
   "nbconvert_exporter": "python",
   "pygments_lexer": "ipython3",
   "version": "3.8.13"
  },
  "orig_nbformat": 4
 },
 "nbformat": 4,
 "nbformat_minor": 2
}
